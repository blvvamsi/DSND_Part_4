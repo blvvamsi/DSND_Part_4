{
 "cells": [
  {
   "cell_type": "code",
   "execution_count": 2,
   "metadata": {},
   "outputs": [],
   "source": [
    "import numpy as np\n",
    "import pandas as pd\n",
    "import math\n",
    "import matplotlib.pyplot as plt\n",
    "%matplotlib inline"
   ]
  },
  {
   "cell_type": "code",
   "execution_count": 3,
   "metadata": {},
   "outputs": [
    {
     "data": {
      "text/html": [
       "<div>\n",
       "<style scoped>\n",
       "    .dataframe tbody tr th:only-of-type {\n",
       "        vertical-align: middle;\n",
       "    }\n",
       "\n",
       "    .dataframe tbody tr th {\n",
       "        vertical-align: top;\n",
       "    }\n",
       "\n",
       "    .dataframe thead th {\n",
       "        text-align: right;\n",
       "    }\n",
       "</style>\n",
       "<table border=\"1\" class=\"dataframe\">\n",
       "  <thead>\n",
       "    <tr style=\"text-align: right;\">\n",
       "      <th></th>\n",
       "      <th>Respondent</th>\n",
       "      <th>Professional</th>\n",
       "      <th>ProgramHobby</th>\n",
       "      <th>Country</th>\n",
       "      <th>University</th>\n",
       "      <th>EmploymentStatus</th>\n",
       "      <th>FormalEducation</th>\n",
       "      <th>MajorUndergrad</th>\n",
       "      <th>HomeRemote</th>\n",
       "      <th>CompanySize</th>\n",
       "      <th>...</th>\n",
       "      <th>StackOverflowMakeMoney</th>\n",
       "      <th>Gender</th>\n",
       "      <th>HighestEducationParents</th>\n",
       "      <th>Race</th>\n",
       "      <th>SurveyLong</th>\n",
       "      <th>QuestionsInteresting</th>\n",
       "      <th>QuestionsConfusing</th>\n",
       "      <th>InterestedAnswers</th>\n",
       "      <th>Salary</th>\n",
       "      <th>ExpectedSalary</th>\n",
       "    </tr>\n",
       "  </thead>\n",
       "  <tbody>\n",
       "    <tr>\n",
       "      <th>0</th>\n",
       "      <td>1</td>\n",
       "      <td>Student</td>\n",
       "      <td>Yes, both</td>\n",
       "      <td>United States</td>\n",
       "      <td>No</td>\n",
       "      <td>Not employed, and not looking for work</td>\n",
       "      <td>Secondary school</td>\n",
       "      <td>NaN</td>\n",
       "      <td>NaN</td>\n",
       "      <td>NaN</td>\n",
       "      <td>...</td>\n",
       "      <td>Strongly disagree</td>\n",
       "      <td>Male</td>\n",
       "      <td>High school</td>\n",
       "      <td>White or of European descent</td>\n",
       "      <td>Strongly disagree</td>\n",
       "      <td>Strongly agree</td>\n",
       "      <td>Disagree</td>\n",
       "      <td>Strongly agree</td>\n",
       "      <td>NaN</td>\n",
       "      <td>NaN</td>\n",
       "    </tr>\n",
       "    <tr>\n",
       "      <th>1</th>\n",
       "      <td>2</td>\n",
       "      <td>Student</td>\n",
       "      <td>Yes, both</td>\n",
       "      <td>United Kingdom</td>\n",
       "      <td>Yes, full-time</td>\n",
       "      <td>Employed part-time</td>\n",
       "      <td>Some college/university study without earning ...</td>\n",
       "      <td>Computer science or software engineering</td>\n",
       "      <td>More than half, but not all, the time</td>\n",
       "      <td>20 to 99 employees</td>\n",
       "      <td>...</td>\n",
       "      <td>Strongly disagree</td>\n",
       "      <td>Male</td>\n",
       "      <td>A master's degree</td>\n",
       "      <td>White or of European descent</td>\n",
       "      <td>Somewhat agree</td>\n",
       "      <td>Somewhat agree</td>\n",
       "      <td>Disagree</td>\n",
       "      <td>Strongly agree</td>\n",
       "      <td>NaN</td>\n",
       "      <td>37500.0</td>\n",
       "    </tr>\n",
       "    <tr>\n",
       "      <th>2</th>\n",
       "      <td>3</td>\n",
       "      <td>Professional developer</td>\n",
       "      <td>Yes, both</td>\n",
       "      <td>United Kingdom</td>\n",
       "      <td>No</td>\n",
       "      <td>Employed full-time</td>\n",
       "      <td>Bachelor's degree</td>\n",
       "      <td>Computer science or software engineering</td>\n",
       "      <td>Less than half the time, but at least one day ...</td>\n",
       "      <td>10,000 or more employees</td>\n",
       "      <td>...</td>\n",
       "      <td>Disagree</td>\n",
       "      <td>Male</td>\n",
       "      <td>A professional degree</td>\n",
       "      <td>White or of European descent</td>\n",
       "      <td>Somewhat agree</td>\n",
       "      <td>Agree</td>\n",
       "      <td>Disagree</td>\n",
       "      <td>Agree</td>\n",
       "      <td>113750.0</td>\n",
       "      <td>NaN</td>\n",
       "    </tr>\n",
       "    <tr>\n",
       "      <th>3</th>\n",
       "      <td>4</td>\n",
       "      <td>Professional non-developer who sometimes write...</td>\n",
       "      <td>Yes, both</td>\n",
       "      <td>United States</td>\n",
       "      <td>No</td>\n",
       "      <td>Employed full-time</td>\n",
       "      <td>Doctoral degree</td>\n",
       "      <td>A non-computer-focused engineering discipline</td>\n",
       "      <td>Less than half the time, but at least one day ...</td>\n",
       "      <td>10,000 or more employees</td>\n",
       "      <td>...</td>\n",
       "      <td>Disagree</td>\n",
       "      <td>Male</td>\n",
       "      <td>A doctoral degree</td>\n",
       "      <td>White or of European descent</td>\n",
       "      <td>Agree</td>\n",
       "      <td>Agree</td>\n",
       "      <td>Somewhat agree</td>\n",
       "      <td>Strongly agree</td>\n",
       "      <td>NaN</td>\n",
       "      <td>NaN</td>\n",
       "    </tr>\n",
       "    <tr>\n",
       "      <th>4</th>\n",
       "      <td>5</td>\n",
       "      <td>Professional developer</td>\n",
       "      <td>Yes, I program as a hobby</td>\n",
       "      <td>Switzerland</td>\n",
       "      <td>No</td>\n",
       "      <td>Employed full-time</td>\n",
       "      <td>Master's degree</td>\n",
       "      <td>Computer science or software engineering</td>\n",
       "      <td>Never</td>\n",
       "      <td>10 to 19 employees</td>\n",
       "      <td>...</td>\n",
       "      <td>NaN</td>\n",
       "      <td>NaN</td>\n",
       "      <td>NaN</td>\n",
       "      <td>NaN</td>\n",
       "      <td>NaN</td>\n",
       "      <td>NaN</td>\n",
       "      <td>NaN</td>\n",
       "      <td>NaN</td>\n",
       "      <td>NaN</td>\n",
       "      <td>NaN</td>\n",
       "    </tr>\n",
       "  </tbody>\n",
       "</table>\n",
       "<p>5 rows × 154 columns</p>\n",
       "</div>"
      ],
      "text/plain": [
       "   Respondent                                       Professional  \\\n",
       "0           1                                            Student   \n",
       "1           2                                            Student   \n",
       "2           3                             Professional developer   \n",
       "3           4  Professional non-developer who sometimes write...   \n",
       "4           5                             Professional developer   \n",
       "\n",
       "                ProgramHobby         Country      University  \\\n",
       "0                  Yes, both   United States              No   \n",
       "1                  Yes, both  United Kingdom  Yes, full-time   \n",
       "2                  Yes, both  United Kingdom              No   \n",
       "3                  Yes, both   United States              No   \n",
       "4  Yes, I program as a hobby     Switzerland              No   \n",
       "\n",
       "                         EmploymentStatus  \\\n",
       "0  Not employed, and not looking for work   \n",
       "1                      Employed part-time   \n",
       "2                      Employed full-time   \n",
       "3                      Employed full-time   \n",
       "4                      Employed full-time   \n",
       "\n",
       "                                     FormalEducation  \\\n",
       "0                                   Secondary school   \n",
       "1  Some college/university study without earning ...   \n",
       "2                                  Bachelor's degree   \n",
       "3                                    Doctoral degree   \n",
       "4                                    Master's degree   \n",
       "\n",
       "                                  MajorUndergrad  \\\n",
       "0                                            NaN   \n",
       "1       Computer science or software engineering   \n",
       "2       Computer science or software engineering   \n",
       "3  A non-computer-focused engineering discipline   \n",
       "4       Computer science or software engineering   \n",
       "\n",
       "                                          HomeRemote  \\\n",
       "0                                                NaN   \n",
       "1              More than half, but not all, the time   \n",
       "2  Less than half the time, but at least one day ...   \n",
       "3  Less than half the time, but at least one day ...   \n",
       "4                                              Never   \n",
       "\n",
       "                CompanySize  ... StackOverflowMakeMoney Gender  \\\n",
       "0                       NaN  ...      Strongly disagree   Male   \n",
       "1        20 to 99 employees  ...      Strongly disagree   Male   \n",
       "2  10,000 or more employees  ...               Disagree   Male   \n",
       "3  10,000 or more employees  ...               Disagree   Male   \n",
       "4        10 to 19 employees  ...                    NaN    NaN   \n",
       "\n",
       "  HighestEducationParents                          Race         SurveyLong  \\\n",
       "0             High school  White or of European descent  Strongly disagree   \n",
       "1       A master's degree  White or of European descent     Somewhat agree   \n",
       "2   A professional degree  White or of European descent     Somewhat agree   \n",
       "3       A doctoral degree  White or of European descent              Agree   \n",
       "4                     NaN                           NaN                NaN   \n",
       "\n",
       "  QuestionsInteresting QuestionsConfusing InterestedAnswers    Salary  \\\n",
       "0       Strongly agree           Disagree    Strongly agree       NaN   \n",
       "1       Somewhat agree           Disagree    Strongly agree       NaN   \n",
       "2                Agree           Disagree             Agree  113750.0   \n",
       "3                Agree     Somewhat agree    Strongly agree       NaN   \n",
       "4                  NaN                NaN               NaN       NaN   \n",
       "\n",
       "   ExpectedSalary  \n",
       "0             NaN  \n",
       "1         37500.0  \n",
       "2             NaN  \n",
       "3             NaN  \n",
       "4             NaN  \n",
       "\n",
       "[5 rows x 154 columns]"
      ]
     },
     "execution_count": 3,
     "metadata": {},
     "output_type": "execute_result"
    }
   ],
   "source": [
    "so_df = pd.read_csv('survey_results_public.csv')\n",
    "so_df.head()"
   ]
  },
  {
   "cell_type": "code",
   "execution_count": 4,
   "metadata": {},
   "outputs": [],
   "source": [
    "def plot_a_bar_chart(df, column, title):\n",
    "    '''\n",
    "    \n",
    "     Function to Display a bar chart with a title\n",
    "    \n",
    "    \n",
    "    '''\n",
    "    vals_st = df[column].value_counts()\n",
    "    (vals_st[:10]/df.shape[0]).plot(kind=\"bar\");\n",
    "    plt.title(title);"
   ]
  },
  {
   "cell_type": "code",
   "execution_count": 5,
   "metadata": {},
   "outputs": [
    {
     "data": {
      "image/png": "[encoded data removed]",
      "text/plain": [
       "<Figure size 432x288 with 1 Axes>"
      ]
     },
     "metadata": {
      "needs_background": "light"
     },
     "output_type": "display_data"
    }
   ],
   "source": [
    "plot_a_bar_chart(so_df, \"Professional\", \"Type of Developer\")"
   ]
  },
  {
   "cell_type": "code",
   "execution_count": 6,
   "metadata": {},
   "outputs": [
    {
     "data": {
      "image/png": "[encoded data removed]",
      "text/plain": [
       "<Figure size 432x288 with 1 Axes>"
      ]
     },
     "metadata": {
      "needs_background": "light"
     },
     "output_type": "display_data"
    }
   ],
   "source": [
    "plot_a_bar_chart(so_df, \"Country\", \"Country of origin\")"
   ]
  },
  {
   "cell_type": "code",
   "execution_count": 7,
   "metadata": {},
   "outputs": [
    {
     "data": {
      "image/png": "[encoded data removed]",
      "text/plain": [
       "<Figure size 432x288 with 1 Axes>"
      ]
     },
     "metadata": {
      "needs_background": "light"
     },
     "output_type": "display_data"
    }
   ],
   "source": [
    "plot_a_bar_chart(so_df, \"EmploymentStatus\", \"Current employment status\")"
   ]
  },
  {
   "cell_type": "code",
   "execution_count": 8,
   "metadata": {},
   "outputs": [
    {
     "data": {
      "image/png": "[encoded data removed]",
      "text/plain": [
       "<Figure size 432x288 with 1 Axes>"
      ]
     },
     "metadata": {
      "needs_background": "light"
     },
     "output_type": "display_data"
    }
   ],
   "source": [
    "plot_a_bar_chart(so_df, \"Overpaid\", \"Salary Satisfaction\")"
   ]
  },
  {
   "cell_type": "code",
   "execution_count": 9,
   "metadata": {},
   "outputs": [],
   "source": [
    "def data_divide(df):\n",
    "    '''\n",
    "    \n",
    "    Seperating countries based on landscape \n",
    "    \n",
    "    '''\n",
    "    # For Categorical variables \"Country\", we seperate them into \n",
    "    # three sessions: western, eastern and other\n",
    "    # The following lists define the countries to western and eastern\n",
    "    dev_coun = ['United States', 'Liechtenstein', 'Switzerland', \n",
    "           'Iceland', 'Norway', 'Israel', 'Denmark', \n",
    "           'Ireland', 'Canada', 'United Kingdom', 'Germany', \n",
    "           'Netherlands', 'Sweden', 'Luxembourg', 'Austria', \n",
    "           'Finland', 'France', 'Belgium', 'Spain', 'Italy',\n",
    "           'Poland']\n",
    "\n",
    "    asian = ['Thailand', 'Singapore', 'Hong Kong', \n",
    "           'South Korea', 'Japan', 'China', \n",
    "           'Taiwan', 'Malaysia', 'India', \n",
    "           'Indonesia', 'Vietnam']\n",
    "    \n",
    "    #Add a new catagory seperating to western and eastern\n",
    "    df['dev_or_asian'] = df['Country'].apply(lambda x: 'dev' if x in dev_coun else ('asian' if x in asian else 'other'))\n",
    "    \n",
    "    return df"
   ]
  },
  {
   "cell_type": "code",
   "execution_count": 10,
   "metadata": {},
   "outputs": [],
   "source": [
    "def data_preparation(df):\n",
    "    '''\n",
    "    \n",
    "    Return useful columns with query condition\n",
    "    \n",
    "    \n",
    "    '''\n",
    "    #Get some useful columns for analysis\n",
    "    useful_columns = ['Country', 'YearsCodedJob', 'EmploymentStatus', 'CareerSatisfaction', 'JobSatisfaction', 'JobSeekingStatus', 'HoursPerWeek', 'Salary', 'dev_or_asian', 'Overpaid']\n",
    "    useful_df = pd.DataFrame(df.query(\"Professional == 'Professional developer' and (Gender == 'Male' or Gender == 'Female') and EmploymentStatus == 'Employed full-time'\"))[useful_columns]\n",
    "    return useful_df"
   ]
  },
  {
   "cell_type": "code",
   "execution_count": 11,
   "metadata": {},
   "outputs": [],
   "source": [
    "df = data_divide(so_df)\n"
   ]
  },
  {
   "cell_type": "code",
   "execution_count": 12,
   "metadata": {},
   "outputs": [
    {
     "data": {
      "text/html": [
       "<div>\n",
       "<style scoped>\n",
       "    .dataframe tbody tr th:only-of-type {\n",
       "        vertical-align: middle;\n",
       "    }\n",
       "\n",
       "    .dataframe tbody tr th {\n",
       "        vertical-align: top;\n",
       "    }\n",
       "\n",
       "    .dataframe thead th {\n",
       "        text-align: right;\n",
       "    }\n",
       "</style>\n",
       "<table border=\"1\" class=\"dataframe\">\n",
       "  <thead>\n",
       "    <tr style=\"text-align: right;\">\n",
       "      <th></th>\n",
       "      <th>Country</th>\n",
       "      <th>YearsCodedJob</th>\n",
       "      <th>EmploymentStatus</th>\n",
       "      <th>CareerSatisfaction</th>\n",
       "      <th>JobSatisfaction</th>\n",
       "      <th>JobSeekingStatus</th>\n",
       "      <th>HoursPerWeek</th>\n",
       "      <th>Salary</th>\n",
       "      <th>dev_or_asian</th>\n",
       "      <th>Overpaid</th>\n",
       "    </tr>\n",
       "  </thead>\n",
       "  <tbody>\n",
       "    <tr>\n",
       "      <th>2</th>\n",
       "      <td>United Kingdom</td>\n",
       "      <td>20 or more years</td>\n",
       "      <td>Employed full-time</td>\n",
       "      <td>8.0</td>\n",
       "      <td>9.0</td>\n",
       "      <td>NaN</td>\n",
       "      <td>NaN</td>\n",
       "      <td>113750.0</td>\n",
       "      <td>dev</td>\n",
       "      <td>Neither underpaid nor overpaid</td>\n",
       "    </tr>\n",
       "    <tr>\n",
       "      <th>7</th>\n",
       "      <td>Poland</td>\n",
       "      <td>7 to 8 years</td>\n",
       "      <td>Employed full-time</td>\n",
       "      <td>7.0</td>\n",
       "      <td>7.0</td>\n",
       "      <td>I'm not actively looking, but I am open to new...</td>\n",
       "      <td>1.0</td>\n",
       "      <td>NaN</td>\n",
       "      <td>dev</td>\n",
       "      <td>NaN</td>\n",
       "    </tr>\n",
       "    <tr>\n",
       "      <th>8</th>\n",
       "      <td>Colombia</td>\n",
       "      <td>7 to 8 years</td>\n",
       "      <td>Employed full-time</td>\n",
       "      <td>6.0</td>\n",
       "      <td>6.0</td>\n",
       "      <td>I am not interested in new job opportunities</td>\n",
       "      <td>2.0</td>\n",
       "      <td>NaN</td>\n",
       "      <td>other</td>\n",
       "      <td>Neither underpaid nor overpaid</td>\n",
       "    </tr>\n",
       "    <tr>\n",
       "      <th>13</th>\n",
       "      <td>Germany</td>\n",
       "      <td>15 to 16 years</td>\n",
       "      <td>Employed full-time</td>\n",
       "      <td>8.0</td>\n",
       "      <td>6.0</td>\n",
       "      <td>I am actively looking for a job</td>\n",
       "      <td>3.0</td>\n",
       "      <td>NaN</td>\n",
       "      <td>dev</td>\n",
       "      <td>NaN</td>\n",
       "    </tr>\n",
       "    <tr>\n",
       "      <th>14</th>\n",
       "      <td>United Kingdom</td>\n",
       "      <td>20 or more years</td>\n",
       "      <td>Employed full-time</td>\n",
       "      <td>8.0</td>\n",
       "      <td>8.0</td>\n",
       "      <td>NaN</td>\n",
       "      <td>NaN</td>\n",
       "      <td>100000.0</td>\n",
       "      <td>dev</td>\n",
       "      <td>Somewhat underpaid</td>\n",
       "    </tr>\n",
       "  </tbody>\n",
       "</table>\n",
       "</div>"
      ],
      "text/plain": [
       "           Country     YearsCodedJob    EmploymentStatus  CareerSatisfaction  \\\n",
       "2   United Kingdom  20 or more years  Employed full-time                 8.0   \n",
       "7           Poland      7 to 8 years  Employed full-time                 7.0   \n",
       "8         Colombia      7 to 8 years  Employed full-time                 6.0   \n",
       "13         Germany    15 to 16 years  Employed full-time                 8.0   \n",
       "14  United Kingdom  20 or more years  Employed full-time                 8.0   \n",
       "\n",
       "    JobSatisfaction                                   JobSeekingStatus  \\\n",
       "2               9.0                                                NaN   \n",
       "7               7.0  I'm not actively looking, but I am open to new...   \n",
       "8               6.0       I am not interested in new job opportunities   \n",
       "13              6.0                    I am actively looking for a job   \n",
       "14              8.0                                                NaN   \n",
       "\n",
       "    HoursPerWeek    Salary dev_or_asian                        Overpaid  \n",
       "2            NaN  113750.0          dev  Neither underpaid nor overpaid  \n",
       "7            1.0       NaN          dev                             NaN  \n",
       "8            2.0       NaN        other  Neither underpaid nor overpaid  \n",
       "13           3.0       NaN          dev                             NaN  \n",
       "14           NaN  100000.0          dev              Somewhat underpaid  "
      ]
     },
     "execution_count": 12,
     "metadata": {},
     "output_type": "execute_result"
    }
   ],
   "source": [
    "\n",
    "use_df = data_preparation(df)\n",
    "use_df.head()"
   ]
  },
  {
   "cell_type": "code",
   "execution_count": 13,
   "metadata": {},
   "outputs": [],
   "source": [
    "def convert_pay(df):\n",
    "    \"\"\"\n",
    "    \n",
    "    Convert Overpaid from words to integer for calculating the mean\n",
    "    \n",
    "    \"\"\"\n",
    "    op_map = {\n",
    "        'Greatly underpaid' : 1,\n",
    "        'Somewhat underpaid' : 2,\n",
    "        'Neither underpaid nor overpaid' : 3,\n",
    "        'Somewhat overpaid' : 4,\n",
    "        'Greatly overpaid' : 5,\n",
    "        np.nan: np.nan\n",
    "    }\n",
    "    df['Overpaid'] = df['Overpaid'].apply(lambda x: np.nan if x == np.nan else op_map[x] )\n",
    "    \n",
    "    return df"
   ]
  },
  {
   "cell_type": "code",
   "execution_count": 14,
   "metadata": {},
   "outputs": [],
   "source": [
    "use_df = convert_pay(use_df)\n",
    "comparison = use_df.groupby(['dev_or_asian','YearsCodedJob']).mean()\n"
   ]
  },
  {
   "cell_type": "code",
   "execution_count": 15,
   "metadata": {},
   "outputs": [
    {
     "data": {
      "text/html": [
       "<div>\n",
       "<style scoped>\n",
       "    .dataframe tbody tr th:only-of-type {\n",
       "        vertical-align: middle;\n",
       "    }\n",
       "\n",
       "    .dataframe tbody tr th {\n",
       "        vertical-align: top;\n",
       "    }\n",
       "\n",
       "    .dataframe thead th {\n",
       "        text-align: right;\n",
       "    }\n",
       "</style>\n",
       "<table border=\"1\" class=\"dataframe\">\n",
       "  <thead>\n",
       "    <tr style=\"text-align: right;\">\n",
       "      <th></th>\n",
       "      <th></th>\n",
       "      <th>CareerSatisfaction</th>\n",
       "      <th>JobSatisfaction</th>\n",
       "      <th>HoursPerWeek</th>\n",
       "      <th>Salary</th>\n",
       "      <th>Overpaid</th>\n",
       "    </tr>\n",
       "    <tr>\n",
       "      <th>dev_or_asian</th>\n",
       "      <th>YearsCodedJob</th>\n",
       "      <th></th>\n",
       "      <th></th>\n",
       "      <th></th>\n",
       "      <th></th>\n",
       "      <th></th>\n",
       "    </tr>\n",
       "  </thead>\n",
       "  <tbody>\n",
       "    <tr>\n",
       "      <th rowspan=\"5\" valign=\"top\">asian</th>\n",
       "      <th>1 to 2 years</th>\n",
       "      <td>6.624444</td>\n",
       "      <td>5.891111</td>\n",
       "      <td>5.653696</td>\n",
       "      <td>7742.553472</td>\n",
       "      <td>2.082418</td>\n",
       "    </tr>\n",
       "    <tr>\n",
       "      <th>10 to 11 years</th>\n",
       "      <td>7.500000</td>\n",
       "      <td>6.550000</td>\n",
       "      <td>3.720000</td>\n",
       "      <td>33318.461069</td>\n",
       "      <td>2.461538</td>\n",
       "    </tr>\n",
       "    <tr>\n",
       "      <th>11 to 12 years</th>\n",
       "      <td>7.342857</td>\n",
       "      <td>6.828571</td>\n",
       "      <td>3.733333</td>\n",
       "      <td>41902.774227</td>\n",
       "      <td>2.384615</td>\n",
       "    </tr>\n",
       "    <tr>\n",
       "      <th>12 to 13 years</th>\n",
       "      <td>7.176471</td>\n",
       "      <td>6.088235</td>\n",
       "      <td>4.937500</td>\n",
       "      <td>53430.910772</td>\n",
       "      <td>2.428571</td>\n",
       "    </tr>\n",
       "    <tr>\n",
       "      <th>13 to 14 years</th>\n",
       "      <td>7.333333</td>\n",
       "      <td>7.666667</td>\n",
       "      <td>26.000000</td>\n",
       "      <td>50170.185287</td>\n",
       "      <td>2.500000</td>\n",
       "    </tr>\n",
       "    <tr>\n",
       "      <th>...</th>\n",
       "      <th>...</th>\n",
       "      <td>...</td>\n",
       "      <td>...</td>\n",
       "      <td>...</td>\n",
       "      <td>...</td>\n",
       "      <td>...</td>\n",
       "    </tr>\n",
       "    <tr>\n",
       "      <th rowspan=\"5\" valign=\"top\">other</th>\n",
       "      <th>6 to 7 years</th>\n",
       "      <td>7.180769</td>\n",
       "      <td>6.676923</td>\n",
       "      <td>3.343066</td>\n",
       "      <td>29263.095444</td>\n",
       "      <td>2.460317</td>\n",
       "    </tr>\n",
       "    <tr>\n",
       "      <th>7 to 8 years</th>\n",
       "      <td>7.639405</td>\n",
       "      <td>7.178439</td>\n",
       "      <td>2.537879</td>\n",
       "      <td>31964.359077</td>\n",
       "      <td>2.496241</td>\n",
       "    </tr>\n",
       "    <tr>\n",
       "      <th>8 to 9 years</th>\n",
       "      <td>7.625731</td>\n",
       "      <td>6.836257</td>\n",
       "      <td>2.606742</td>\n",
       "      <td>34049.171061</td>\n",
       "      <td>2.436782</td>\n",
       "    </tr>\n",
       "    <tr>\n",
       "      <th>9 to 10 years</th>\n",
       "      <td>7.621622</td>\n",
       "      <td>7.126126</td>\n",
       "      <td>2.990654</td>\n",
       "      <td>32968.872897</td>\n",
       "      <td>2.512195</td>\n",
       "    </tr>\n",
       "    <tr>\n",
       "      <th>Less than a year</th>\n",
       "      <td>7.171053</td>\n",
       "      <td>6.890351</td>\n",
       "      <td>3.323810</td>\n",
       "      <td>12331.873250</td>\n",
       "      <td>2.325397</td>\n",
       "    </tr>\n",
       "  </tbody>\n",
       "</table>\n",
       "<p>63 rows × 5 columns</p>\n",
       "</div>"
      ],
      "text/plain": [
       "                               CareerSatisfaction  JobSatisfaction  \\\n",
       "dev_or_asian YearsCodedJob                                           \n",
       "asian        1 to 2 years                6.624444         5.891111   \n",
       "             10 to 11 years              7.500000         6.550000   \n",
       "             11 to 12 years              7.342857         6.828571   \n",
       "             12 to 13 years              7.176471         6.088235   \n",
       "             13 to 14 years              7.333333         7.666667   \n",
       "...                                           ...              ...   \n",
       "other        6 to 7 years                7.180769         6.676923   \n",
       "             7 to 8 years                7.639405         7.178439   \n",
       "             8 to 9 years                7.625731         6.836257   \n",
       "             9 to 10 years               7.621622         7.126126   \n",
       "             Less than a year            7.171053         6.890351   \n",
       "\n",
       "                               HoursPerWeek        Salary  Overpaid  \n",
       "dev_or_asian YearsCodedJob                                           \n",
       "asian        1 to 2 years          5.653696   7742.553472  2.082418  \n",
       "             10 to 11 years        3.720000  33318.461069  2.461538  \n",
       "             11 to 12 years        3.733333  41902.774227  2.384615  \n",
       "             12 to 13 years        4.937500  53430.910772  2.428571  \n",
       "             13 to 14 years       26.000000  50170.185287  2.500000  \n",
       "...                                     ...           ...       ...  \n",
       "other        6 to 7 years          3.343066  29263.095444  2.460317  \n",
       "             7 to 8 years          2.537879  31964.359077  2.496241  \n",
       "             8 to 9 years          2.606742  34049.171061  2.436782  \n",
       "             9 to 10 years         2.990654  32968.872897  2.512195  \n",
       "             Less than a year      3.323810  12331.873250  2.325397  \n",
       "\n",
       "[63 rows x 5 columns]"
      ]
     },
     "execution_count": 15,
     "metadata": {},
     "output_type": "execute_result"
    }
   ],
   "source": [
    "comparison"
   ]
  },
  {
   "cell_type": "code",
   "execution_count": 16,
   "metadata": {},
   "outputs": [],
   "source": [
    "def handling_experience(df):\n",
    "    \"\"\"\n",
    "    \n",
    "    Convert the working year to integer for calculating the mean\n",
    "    \n",
    "    \n",
    "    \"\"\"\n",
    "    exp_map = {'1 to 2 years' : 1, \n",
    "                '10 to 11 years' : 10, \n",
    "                '11 to 12 years' : 11, \n",
    "                '12 to 13 years' : 12,\n",
    "                '13 to 14 years' : 13, \n",
    "                '14 to 15 years' : 14, \n",
    "                '15 to 16 years' : 15, \n",
    "                '16 to 17 years' : 16,\n",
    "                '17 to 18 years' : 17, \n",
    "                '18 to 19 years' : 18, \n",
    "                '19 to 20 years' : 19, \n",
    "                '2 to 3 years' : 2,\n",
    "                '20 or more years' : 20, \n",
    "                '3 to 4 years' : 3, \n",
    "                '4 to 5 years' : 4, \n",
    "                '5 to 6 years' : 5, \n",
    "                '6 to 7 years' : 6, \n",
    "                '7 to 8 years' : 7, \n",
    "                '8 to 9 years' : 8, \n",
    "                '9 to 10 years' : 9, \n",
    "                'Less than a year' : 0}\n",
    "    \n",
    "    df_graph = df.reset_index()\n",
    "    df_graph['YearsCodedJob'] = df_graph['YearsCodedJob'].apply(lambda x: exp_map[x])\n",
    "    df_graph['YearsCodedJob'] = pd.to_numeric(df_graph['YearsCodedJob'])\n",
    "    \n",
    "    return df_graph"
   ]
  },
  {
   "cell_type": "code",
   "execution_count": 17,
   "metadata": {},
   "outputs": [],
   "source": [
    "comp_graph = handling_experience(comparison)\n",
    "comp_graph = comp_graph.sort_values(by='YearsCodedJob')"
   ]
  },
  {
   "cell_type": "code",
   "execution_count": 18,
   "metadata": {},
   "outputs": [],
   "source": [
    "comp_graph.set_index('YearsCodedJob', inplace=True)"
   ]
  },
  {
   "cell_type": "code",
   "execution_count": 19,
   "metadata": {},
   "outputs": [
    {
     "data": {
      "text/plain": [
       "Text(0, 0.5, 'Average Salary')"
      ]
     },
     "execution_count": 19,
     "metadata": {},
     "output_type": "execute_result"
    },
    {
     "data": {
      "image/png": "[encoded data removed]",
      "text/plain": [
       "<Figure size 432x288 with 1 Axes>"
      ]
     },
     "metadata": {
      "needs_background": "light"
     },
     "output_type": "display_data"
    }
   ],
   "source": [
    "# Comparison of pay disparity between developed and asian countries\n",
    "comp_graph.groupby('dev_or_asian')['Salary'].plot(legend=True)\n",
    "plt.title(\"Salary Comparison between Developed and asian countries\");\n",
    "plt.xlabel('YearsCodedJob')\n",
    "plt.ylabel('Average Salary')"
   ]
  },
  {
   "cell_type": "code",
   "execution_count": 20,
   "metadata": {},
   "outputs": [
    {
     "data": {
      "text/plain": [
       "Text(0, 0.5, 'Overpaid')"
      ]
     },
     "execution_count": 20,
     "metadata": {},
     "output_type": "execute_result"
    },
    {
     "data": {
      "image/png": "[encoded data removed]",
      "text/plain": [
       "<Figure size 432x288 with 1 Axes>"
      ]
     },
     "metadata": {
      "needs_background": "light"
     },
     "output_type": "display_data"
    }
   ],
   "source": [
    "# Pay satisfaction\n",
    "comp_graph.groupby('dev_or_asian')['Overpaid'].plot(legend=True)\n",
    "plt.title(\"Does the programmer think he's overpaid?\");\n",
    "plt.xlabel('YearsCodedJob')\n",
    "plt.ylabel('Overpaid')"
   ]
  },
  {
   "cell_type": "code",
   "execution_count": 21,
   "metadata": {},
   "outputs": [
    {
     "data": {
      "text/plain": [
       "dev_or_asian\n",
       "asian    7.123803\n",
       "dev      7.576207\n",
       "other    7.503250\n",
       "Name: CareerSatisfaction, dtype: float64"
      ]
     },
     "execution_count": 21,
     "metadata": {},
     "output_type": "execute_result"
    }
   ],
   "source": [
    "comparison.groupby('dev_or_asian').mean().CareerSatisfaction"
   ]
  },
  {
   "cell_type": "code",
   "execution_count": 22,
   "metadata": {},
   "outputs": [
    {
     "data": {
      "text/plain": [
       "dev_or_asian\n",
       "asian    6.623020\n",
       "dev      7.122752\n",
       "other    7.062847\n",
       "Name: JobSatisfaction, dtype: float64"
      ]
     },
     "execution_count": 22,
     "metadata": {},
     "output_type": "execute_result"
    }
   ],
   "source": [
    "comparison.groupby('dev_or_asian').mean().JobSatisfaction"
   ]
  },
  {
   "cell_type": "code",
   "execution_count": 23,
   "metadata": {},
   "outputs": [
    {
     "data": {
      "text/plain": [
       "dev_or_asian\n",
       "asian     627.927284\n",
       "dev      1529.287081\n",
       "other     743.536241\n",
       "Name: Salary, dtype: float64"
      ]
     },
     "execution_count": 23,
     "metadata": {},
     "output_type": "execute_result"
    }
   ],
   "source": [
    "comparison.groupby('dev_or_asian').mean().Salary/50"
   ]
  },
  {
   "cell_type": "code",
   "execution_count": 25,
   "metadata": {},
   "outputs": [
    {
     "data": {
      "text/plain": [
       "Text(0, 0.5, 'Job Satisfaction')"
      ]
     },
     "execution_count": 25,
     "metadata": {},
     "output_type": "execute_result"
    },
    {
     "data": {
      "image/png": "[encoded data removed]",
      "text/plain": [
       "<Figure size 432x288 with 1 Axes>"
      ]
     },
     "metadata": {
      "needs_background": "light"
     },
     "output_type": "display_data"
    }
   ],
   "source": [
    "# Final comparison to answer all our questions\n",
    "plt.scatter(comparison.groupby('dev_or_asian').mean().CareerSatisfaction, comparison.groupby('dev_or_asian').mean().JobSatisfaction, comparison.groupby('dev_or_asian').mean().Salary/50, c=['red','green','blue'])\n",
    "\n",
    "plt.title('Comparison of Career and Job Satisfaction\\n(Red: Asian; Green: Developed; Blue: other)')\n",
    "plt.xlabel('Career Satisfaction')\n",
    "plt.ylabel('Job Satisfaction')"
   ]
  },
  {
   "cell_type": "code",
   "execution_count": null,
   "metadata": {},
   "outputs": [],
   "source": []
  }
 ],
 "metadata": {
  "kernelspec": {
   "display_name": "Python 3",
   "language": "python",
   "name": "python3"
  },
  "language_info": {
   "codemirror_mode": {
    "name": "ipython",
    "version": 3
   },
   "file_extension": ".py",
   "mimetype": "text/x-python",
   "name": "python",
   "nbconvert_exporter": "python",
   "pygments_lexer": "ipython3",
   "version": "3.6.9"
  }
 },
 "nbformat": 4,
 "nbformat_minor": 4
}
